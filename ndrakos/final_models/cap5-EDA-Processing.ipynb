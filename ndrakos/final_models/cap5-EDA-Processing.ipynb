{
 "cells": [
  {
   "cell_type": "markdown",
   "metadata": {},
   "source": [
    "#### Data Set Information/Background Context:\n",
    "\n",
    "The data is related with direct marketing campaigns of a Portuguese banking institution. The marketing campaigns were based on phone calls. Often, more than one contact to the same client was required, in order to access if the product (bank term deposit) would be ('yes') or not ('no') subscribed. \n",
    "\n",
    "Context for the target variable - Bank Term Deposit\n",
    "A term deposit (or CD) is a cash investment held at a financial institution. Your money is invested for an agreed rate of interest over a fixed amount of time, or term.\n",
    "\n",
    "Term deposits are an extremely safe investment and are therefore very appealing to conservative, low-risk investors."
   ]
  },
  {
   "cell_type": "code",
   "execution_count": 1,
   "metadata": {
    "collapsed": true
   },
   "outputs": [],
   "source": [
    "\n",
    "# Imports\n",
    "from __future__ import division, print_function, unicode_literals\n",
    "import pandas as pd\n",
    "import numpy as np\n",
    "import matplotlib.pyplot as plt\n",
    "import seaborn as sns\n",
    "import random\n",
    "from scipy.stats import skew\n",
    "from IPython.display import display\n",
    "from sklearn.model_selection import train_test_split\n",
    "from sklearn.preprocessing import StandardScaler\n",
    "%matplotlib inline\n",
    "\n",
    "# to make this notebook's output stable across runs\n",
    "np.random.seed(42)"
   ]
  },
  {
   "cell_type": "code",
   "execution_count": 2,
   "metadata": {
    "collapsed": false,
    "scrolled": false
   },
   "outputs": [
    {
     "data": {
      "text/html": [
       "<div>\n",
       "<style>\n",
       "    .dataframe thead tr:only-child th {\n",
       "        text-align: right;\n",
       "    }\n",
       "\n",
       "    .dataframe thead th {\n",
       "        text-align: left;\n",
       "    }\n",
       "\n",
       "    .dataframe tbody tr th {\n",
       "        vertical-align: top;\n",
       "    }\n",
       "</style>\n",
       "<table border=\"1\" class=\"dataframe\">\n",
       "  <thead>\n",
       "    <tr style=\"text-align: right;\">\n",
       "      <th></th>\n",
       "      <th>age</th>\n",
       "      <th>job</th>\n",
       "      <th>marital</th>\n",
       "      <th>education</th>\n",
       "      <th>default</th>\n",
       "      <th>housing</th>\n",
       "      <th>loan</th>\n",
       "      <th>contact</th>\n",
       "      <th>month</th>\n",
       "      <th>day_of_week</th>\n",
       "      <th>...</th>\n",
       "      <th>campaign</th>\n",
       "      <th>pdays</th>\n",
       "      <th>previous</th>\n",
       "      <th>poutcome</th>\n",
       "      <th>emp.var.rate</th>\n",
       "      <th>cons.price.idx</th>\n",
       "      <th>cons.conf.idx</th>\n",
       "      <th>euribor3m</th>\n",
       "      <th>nr.employed</th>\n",
       "      <th>y</th>\n",
       "    </tr>\n",
       "  </thead>\n",
       "  <tbody>\n",
       "    <tr>\n",
       "      <th>0</th>\n",
       "      <td>56</td>\n",
       "      <td>housemaid</td>\n",
       "      <td>married</td>\n",
       "      <td>basic.4y</td>\n",
       "      <td>no</td>\n",
       "      <td>no</td>\n",
       "      <td>no</td>\n",
       "      <td>telephone</td>\n",
       "      <td>may</td>\n",
       "      <td>mon</td>\n",
       "      <td>...</td>\n",
       "      <td>1</td>\n",
       "      <td>999</td>\n",
       "      <td>0</td>\n",
       "      <td>nonexistent</td>\n",
       "      <td>1.1</td>\n",
       "      <td>93.994</td>\n",
       "      <td>-36.4</td>\n",
       "      <td>4.857</td>\n",
       "      <td>5191.0</td>\n",
       "      <td>no</td>\n",
       "    </tr>\n",
       "    <tr>\n",
       "      <th>1</th>\n",
       "      <td>57</td>\n",
       "      <td>services</td>\n",
       "      <td>married</td>\n",
       "      <td>high.school</td>\n",
       "      <td>unknown</td>\n",
       "      <td>no</td>\n",
       "      <td>no</td>\n",
       "      <td>telephone</td>\n",
       "      <td>may</td>\n",
       "      <td>mon</td>\n",
       "      <td>...</td>\n",
       "      <td>1</td>\n",
       "      <td>999</td>\n",
       "      <td>0</td>\n",
       "      <td>nonexistent</td>\n",
       "      <td>1.1</td>\n",
       "      <td>93.994</td>\n",
       "      <td>-36.4</td>\n",
       "      <td>4.857</td>\n",
       "      <td>5191.0</td>\n",
       "      <td>no</td>\n",
       "    </tr>\n",
       "    <tr>\n",
       "      <th>2</th>\n",
       "      <td>37</td>\n",
       "      <td>services</td>\n",
       "      <td>married</td>\n",
       "      <td>high.school</td>\n",
       "      <td>no</td>\n",
       "      <td>yes</td>\n",
       "      <td>no</td>\n",
       "      <td>telephone</td>\n",
       "      <td>may</td>\n",
       "      <td>mon</td>\n",
       "      <td>...</td>\n",
       "      <td>1</td>\n",
       "      <td>999</td>\n",
       "      <td>0</td>\n",
       "      <td>nonexistent</td>\n",
       "      <td>1.1</td>\n",
       "      <td>93.994</td>\n",
       "      <td>-36.4</td>\n",
       "      <td>4.857</td>\n",
       "      <td>5191.0</td>\n",
       "      <td>no</td>\n",
       "    </tr>\n",
       "    <tr>\n",
       "      <th>3</th>\n",
       "      <td>40</td>\n",
       "      <td>admin.</td>\n",
       "      <td>married</td>\n",
       "      <td>basic.6y</td>\n",
       "      <td>no</td>\n",
       "      <td>no</td>\n",
       "      <td>no</td>\n",
       "      <td>telephone</td>\n",
       "      <td>may</td>\n",
       "      <td>mon</td>\n",
       "      <td>...</td>\n",
       "      <td>1</td>\n",
       "      <td>999</td>\n",
       "      <td>0</td>\n",
       "      <td>nonexistent</td>\n",
       "      <td>1.1</td>\n",
       "      <td>93.994</td>\n",
       "      <td>-36.4</td>\n",
       "      <td>4.857</td>\n",
       "      <td>5191.0</td>\n",
       "      <td>no</td>\n",
       "    </tr>\n",
       "    <tr>\n",
       "      <th>4</th>\n",
       "      <td>56</td>\n",
       "      <td>services</td>\n",
       "      <td>married</td>\n",
       "      <td>high.school</td>\n",
       "      <td>no</td>\n",
       "      <td>no</td>\n",
       "      <td>yes</td>\n",
       "      <td>telephone</td>\n",
       "      <td>may</td>\n",
       "      <td>mon</td>\n",
       "      <td>...</td>\n",
       "      <td>1</td>\n",
       "      <td>999</td>\n",
       "      <td>0</td>\n",
       "      <td>nonexistent</td>\n",
       "      <td>1.1</td>\n",
       "      <td>93.994</td>\n",
       "      <td>-36.4</td>\n",
       "      <td>4.857</td>\n",
       "      <td>5191.0</td>\n",
       "      <td>no</td>\n",
       "    </tr>\n",
       "  </tbody>\n",
       "</table>\n",
       "<p>5 rows × 21 columns</p>\n",
       "</div>"
      ],
      "text/plain": [
       "   age        job  marital    education  default housing loan    contact  \\\n",
       "0   56  housemaid  married     basic.4y       no      no   no  telephone   \n",
       "1   57   services  married  high.school  unknown      no   no  telephone   \n",
       "2   37   services  married  high.school       no     yes   no  telephone   \n",
       "3   40     admin.  married     basic.6y       no      no   no  telephone   \n",
       "4   56   services  married  high.school       no      no  yes  telephone   \n",
       "\n",
       "  month day_of_week ...  campaign  pdays  previous     poutcome emp.var.rate  \\\n",
       "0   may         mon ...         1    999         0  nonexistent          1.1   \n",
       "1   may         mon ...         1    999         0  nonexistent          1.1   \n",
       "2   may         mon ...         1    999         0  nonexistent          1.1   \n",
       "3   may         mon ...         1    999         0  nonexistent          1.1   \n",
       "4   may         mon ...         1    999         0  nonexistent          1.1   \n",
       "\n",
       "   cons.price.idx  cons.conf.idx  euribor3m  nr.employed   y  \n",
       "0          93.994          -36.4      4.857       5191.0  no  \n",
       "1          93.994          -36.4      4.857       5191.0  no  \n",
       "2          93.994          -36.4      4.857       5191.0  no  \n",
       "3          93.994          -36.4      4.857       5191.0  no  \n",
       "4          93.994          -36.4      4.857       5191.0  no  \n",
       "\n",
       "[5 rows x 21 columns]"
      ]
     },
     "metadata": {},
     "output_type": "display_data"
    },
    {
     "name": "stdout",
     "output_type": "stream",
     "text": [
      "Data dimensions : (41188, 21)\n",
      "Data columns : Index([u'age', u'job', u'marital', u'education', u'default', u'housing',\n",
      "       u'loan', u'contact', u'month', u'day_of_week', u'duration', u'campaign',\n",
      "       u'pdays', u'previous', u'poutcome', u'emp.var.rate', u'cons.price.idx',\n",
      "       u'cons.conf.idx', u'euribor3m', u'nr.employed', u'y'],\n",
      "      dtype='object')\n"
     ]
    }
   ],
   "source": [
    "data = pd.read_csv(\"~/data/bank/bank-additional-full.csv\", sep = \";\")\n",
    "display(data.head())\n",
    "print(\"Data dimensions : \" + str(data.shape))\n",
    "print(\"Data columns : \" + str(data.columns))"
   ]
  },
  {
   "cell_type": "code",
   "execution_count": 3,
   "metadata": {
    "collapsed": false
   },
   "outputs": [
    {
     "name": "stdout",
     "output_type": "stream",
     "text": [
      "Target variable 'y' is yes or no -> classification problem\n",
      "Number of yes : 4640\n",
      "Number of no : 36548\n"
     ]
    }
   ],
   "source": [
    "# Quick look at the target variable\n",
    "print(\"Target variable 'y' is yes or no -> classification problem\")\n",
    "print(\"Number of yes : \" + str(data[data.y == \"yes\"].shape[0]))\n",
    "print(\"Number of no : \" + str(data[data.y == \"no\"].shape[0]))\n",
    "\n",
    "# Encode it as integer for machine learning algorithms\n",
    "data = data.replace({\"y\" : {\"no\" : 0, \"yes\" : 1}})"
   ]
  },
  {
   "cell_type": "code",
   "execution_count": 4,
   "metadata": {
    "collapsed": false
   },
   "outputs": [],
   "source": [
    "# Remove dots from column names\n",
    "data.columns = ['age', 'job', 'marital', 'education', 'default', 'housing', 'loan', 'contact', 'month', 'day_of_week', \n",
    "                'duration', 'campaign', 'pdays', 'previous', 'poutcome', 'emp_var_rate', 'cons_price_idx',\n",
    "                'cons_conf_idx', 'euribor3m', 'nr_employed', 'y']"
   ]
  },
  {
   "cell_type": "code",
   "execution_count": null,
   "metadata": {
    "collapsed": false
   },
   "outputs": [],
   "source": [
    "data.info()"
   ]
  },
  {
   "cell_type": "code",
   "execution_count": 5,
   "metadata": {
    "collapsed": false
   },
   "outputs": [
    {
     "name": "stdout",
     "output_type": "stream",
     "text": [
      "admin.           10422\n",
      "blue-collar       9254\n",
      "technician        6743\n",
      "services          3969\n",
      "management        2924\n",
      "retired           1720\n",
      "entrepreneur      1456\n",
      "self-employed     1421\n",
      "housemaid         1060\n",
      "unemployed        1014\n",
      "student            875\n",
      "unknown            330\n",
      "Name: job, dtype: int64\n",
      "NAs for job : 0\n"
     ]
    }
   ],
   "source": [
    "# job\n",
    "#2 - job : type of job (categorical: 'admin.','blue-collar','entrepreneur','housemaid','management','retired','self-employed','services','student','technician','unemployed','unknown')\n",
    "print(data.job.value_counts())\n",
    "print(\"NAs for job : \" + str(data.job.isnull().values.sum()))\n",
    "data.loc[data[\"job\"] == \"unknown\", \"job\"] = \"admin.\" #Impute with mode"
   ]
  },
  {
   "cell_type": "code",
   "execution_count": 6,
   "metadata": {
    "collapsed": false
   },
   "outputs": [
    {
     "name": "stdout",
     "output_type": "stream",
     "text": [
      "married     24928\n",
      "single      11568\n",
      "divorced     4612\n",
      "unknown        80\n",
      "Name: marital, dtype: int64\n",
      "NAs for marital : 0\n",
      "80 'unknown', impute most common value\n"
     ]
    }
   ],
   "source": [
    "# marital\n",
    "#3 - marital : marital status (categorical: 'divorced','married','single','unknown'; note: 'divorced' means divorced or widowed)\n",
    "print(data.marital.value_counts())\n",
    "print(\"NAs for marital : \" + str(data.marital.isnull().values.sum()))\n",
    "print(\"80 'unknown', impute most common value\")\n",
    "data.loc[data[\"marital\"] == \"unknown\", \"marital\"] = \"married\""
   ]
  },
  {
   "cell_type": "code",
   "execution_count": 7,
   "metadata": {
    "collapsed": false
   },
   "outputs": [
    {
     "name": "stdout",
     "output_type": "stream",
     "text": [
      "university.degree      12168\n",
      "high.school             9515\n",
      "basic.9y                6045\n",
      "professional.course     5243\n",
      "basic.4y                4176\n",
      "basic.6y                2292\n",
      "unknown                 1731\n",
      "illiterate                18\n",
      "Name: education, dtype: int64\n",
      "NAs for education : 0\n",
      "1731 'unknown', impute most common value\n"
     ]
    }
   ],
   "source": [
    "# education\n",
    "\n",
    "print(data.education.value_counts())\n",
    "print(\"NAs for education : \" + str(data.education.isnull().values.sum()))\n",
    "print(\"1731 'unknown', impute most common value\")\n",
    "data.loc[data[\"education\"] == \"unknown\", \"education\"] = \"university.degree\" #Impute with mode\n"
   ]
  },
  {
   "cell_type": "code",
   "execution_count": 8,
   "metadata": {
    "collapsed": false,
    "scrolled": true
   },
   "outputs": [
    {
     "name": "stdout",
     "output_type": "stream",
     "text": [
      "no         32588\n",
      "unknown     8597\n",
      "yes            3\n",
      "Name: default, dtype: int64\n",
      "NAs for default : 0\n",
      "8597 'unknown'\n",
      "Only 3 'yes' -> we'll discard this variable, not enough information in it\n"
     ]
    }
   ],
   "source": [
    "# default\n",
    "#5 - default: has credit in default? (categorical: 'no','yes','unknown')\n",
    "\n",
    "print(data.default.value_counts())\n",
    "print(\"NAs for default : \" + str(data.default.isnull().values.sum()))\n",
    "print(\"8597 'unknown'\")\n",
    "print(\"Only 3 'yes' -> we'll discard this variable, not enough information in it\")\n"
   ]
  },
  {
   "cell_type": "code",
   "execution_count": 9,
   "metadata": {
    "collapsed": true
   },
   "outputs": [],
   "source": [
    "data = data.drop([\"default\"], axis = 1) #not enough info on this, dropping"
   ]
  },
  {
   "cell_type": "code",
   "execution_count": 10,
   "metadata": {
    "collapsed": false
   },
   "outputs": [
    {
     "name": "stdout",
     "output_type": "stream",
     "text": [
      "yes        21576\n",
      "no         18622\n",
      "unknown      990\n",
      "Name: housing, dtype: int64\n",
      "NAs for housing : 0\n"
     ]
    }
   ],
   "source": [
    "# housing\n",
    "#6 - housing: has housing loan? (categorical: 'no','yes','unknown')\n",
    "\n",
    "print(data.housing.value_counts())\n",
    "print(\"NAs for housing : \" + str(data.housing.isnull().values.sum()))\n",
    "\n",
    "data.loc[data[\"housing\"] == \"unknown\", \"housing\"] = random.choice([\"yes\", \"no\"]) #impute with random choice "
   ]
  },
  {
   "cell_type": "code",
   "execution_count": 11,
   "metadata": {
    "collapsed": false
   },
   "outputs": [
    {
     "name": "stdout",
     "output_type": "stream",
     "text": [
      "no         33950\n",
      "yes         6248\n",
      "unknown      990\n",
      "Name: loan, dtype: int64\n",
      "NAs for loan : 0\n",
      "990 'unknown', impute most common value\n"
     ]
    }
   ],
   "source": [
    "# loan\n",
    "#7 - loan: has personal loan? (categorical: 'no','yes','unknown')\n",
    "\n",
    "print(data.loan.value_counts())\n",
    "print(\"NAs for loan : \" + str(data.loan.isnull().values.sum()))\n",
    "print(\"990 'unknown', impute most common value\")\n",
    "data.loc[data[\"loan\"] == \"unknown\", \"loan\"] = \"no\""
   ]
  },
  {
   "cell_type": "markdown",
   "metadata": {},
   "source": [
    "## related with the last contact of the current campaign:"
   ]
  },
  {
   "cell_type": "code",
   "execution_count": 12,
   "metadata": {
    "collapsed": false
   },
   "outputs": [
    {
     "name": "stdout",
     "output_type": "stream",
     "text": [
      "cellular     26144\n",
      "telephone    15044\n",
      "Name: contact, dtype: int64\n",
      "NAs for contact : 0\n"
     ]
    }
   ],
   "source": [
    "# contact\n",
    "#8 contact communication type (categorical: 'cellular','telephone') \n",
    "\n",
    "print(data.contact.value_counts())\n",
    "print(\"NAs for contact : \" + str(data.contact.isnull().values.sum()))"
   ]
  },
  {
   "cell_type": "code",
   "execution_count": 13,
   "metadata": {
    "collapsed": false
   },
   "outputs": [
    {
     "name": "stdout",
     "output_type": "stream",
     "text": [
      "may    13769\n",
      "jul     7174\n",
      "aug     6178\n",
      "jun     5318\n",
      "nov     4101\n",
      "apr     2632\n",
      "oct      718\n",
      "sep      570\n",
      "mar      546\n",
      "dec      182\n",
      "Name: month, dtype: int64\n",
      "NAs for month : 0\n"
     ]
    }
   ],
   "source": [
    "# month\n",
    "#9 - month: last contact month of year (categorical: 'jan', 'feb', 'mar', ..., 'nov', 'dec')\n",
    "print(data.month.value_counts())\n",
    "print(\"NAs for month : \" + str(data.month.isnull().values.sum()))"
   ]
  },
  {
   "cell_type": "code",
   "execution_count": 14,
   "metadata": {
    "collapsed": false
   },
   "outputs": [
    {
     "name": "stdout",
     "output_type": "stream",
     "text": [
      "thu    8623\n",
      "mon    8514\n",
      "wed    8134\n",
      "tue    8090\n",
      "fri    7827\n",
      "Name: day_of_week, dtype: int64\n",
      "NAs for day_of_week : 0\n"
     ]
    }
   ],
   "source": [
    "# day_of_week\n",
    "#10 - day_of_week: last contact day of the week (categorical: 'mon','tue','wed','thu','fri')\n",
    "print(data.day_of_week.value_counts())\n",
    "print(\"NAs for day_of_week : \" + str(data.day_of_week.isnull().values.sum()))"
   ]
  },
  {
   "cell_type": "code",
   "execution_count": 15,
   "metadata": {
    "collapsed": false
   },
   "outputs": [
    {
     "name": "stdout",
     "output_type": "stream",
     "text": [
      "NAs for duration : 0\n"
     ]
    },
    {
     "data": {
      "text/plain": [
       "85      170\n",
       "90      170\n",
       "136     168\n",
       "73      167\n",
       "124     164\n",
       "87      162\n",
       "72      161\n",
       "104     161\n",
       "111     160\n",
       "106     159\n",
       "109     158\n",
       "97      158\n",
       "122     157\n",
       "135     156\n",
       "92      156\n",
       "114     156\n",
       "139     155\n",
       "96      155\n",
       "119     155\n",
       "82      154\n",
       "89      153\n",
       "76      153\n",
       "71      152\n",
       "126     152\n",
       "125     152\n",
       "93      151\n",
       "107     150\n",
       "88      150\n",
       "83      149\n",
       "123     149\n",
       "       ... \n",
       "2184      1\n",
       "1395      1\n",
       "1555      1\n",
       "1556      1\n",
       "1447      1\n",
       "1492      1\n",
       "3509      1\n",
       "1460      1\n",
       "1364      1\n",
       "1300      1\n",
       "3078      1\n",
       "1095      1\n",
       "1191      1\n",
       "1255      1\n",
       "1287      1\n",
       "3366      1\n",
       "1479      1\n",
       "2035      1\n",
       "1575      1\n",
       "1767      1\n",
       "1236      1\n",
       "3253      1\n",
       "2089      1\n",
       "1204      1\n",
       "1140      1\n",
       "1108      1\n",
       "980       1\n",
       "4918      1\n",
       "2453      1\n",
       "2015      1\n",
       "Name: duration, Length: 1544, dtype: int64"
      ]
     },
     "execution_count": 15,
     "metadata": {},
     "output_type": "execute_result"
    },
    {
     "data": {
      "image/png": "[encoded data removed]",
      "text/plain": [
       "<matplotlib.figure.Figure at 0x111a9c210>"
      ]
     },
     "metadata": {},
     "output_type": "display_data"
    }
   ],
   "source": [
    "# duration \n",
    "#11 - duration: last contact duration, in seconds (numeric). \n",
    "#Important note: this attribute highly affects the output target \n",
    "#(e.g., if duration=0 then y='no'). Yet, the duration is not known before a call is performed. \n",
    "\n",
    "data.duration.hist(bins = 50)\n",
    "print(\"NAs for duration : \" + str(data.duration.isnull().values.sum()))\n",
    "data.duration.value_counts()\n",
    "#**Need to review duration feature, should stratify duration into groups (ie. no contact/less than 20 seconds..etc.)\n"
   ]
  },
  {
   "cell_type": "code",
   "execution_count": 16,
   "metadata": {
    "collapsed": false
   },
   "outputs": [
    {
     "name": "stdout",
     "output_type": "stream",
     "text": [
      "1     17642\n",
      "2     10570\n",
      "3      5341\n",
      "4      2651\n",
      "5      1599\n",
      "6       979\n",
      "7       629\n",
      "8       400\n",
      "9       283\n",
      "10      225\n",
      "11      177\n",
      "12      125\n",
      "13       92\n",
      "14       69\n",
      "17       58\n",
      "15       51\n",
      "16       51\n",
      "18       33\n",
      "20       30\n",
      "19       26\n",
      "21       24\n",
      "22       17\n",
      "23       16\n",
      "24       15\n",
      "27       11\n",
      "29       10\n",
      "25        8\n",
      "26        8\n",
      "28        8\n",
      "30        7\n",
      "31        7\n",
      "35        5\n",
      "33        4\n",
      "32        4\n",
      "34        3\n",
      "40        2\n",
      "42        2\n",
      "43        2\n",
      "37        1\n",
      "39        1\n",
      "41        1\n",
      "56        1\n",
      "Name: campaign, dtype: int64\n",
      "NAs for campaign : 0\n"
     ]
    },
    {
     "data": {
      "image/png": "[encoded data removed]",
      "text/plain": [
       "<matplotlib.figure.Figure at 0x105f6d810>"
      ]
     },
     "metadata": {},
     "output_type": "display_data"
    }
   ],
   "source": [
    "# campaign \n",
    "#- campaign: number of contacts performed during this campaign and for this client (numeric, includes last contact)\n",
    "print(data.campaign.value_counts())\n",
    "data.campaign.hist(bins = 50)\n",
    "print(\"NAs for campaign : \" + str(data.campaign.isnull().values.sum()))\n",
    "#stratify/group campagin feature."
   ]
  },
  {
   "cell_type": "code",
   "execution_count": 17,
   "metadata": {
    "collapsed": false
   },
   "outputs": [
    {
     "name": "stdout",
     "output_type": "stream",
     "text": [
      "999    39673\n",
      "3        439\n",
      "6        412\n",
      "4        118\n",
      "9         64\n",
      "2         61\n",
      "7         60\n",
      "12        58\n",
      "10        52\n",
      "5         46\n",
      "13        36\n",
      "11        28\n",
      "1         26\n",
      "15        24\n",
      "14        20\n",
      "8         18\n",
      "0         15\n",
      "16        11\n",
      "17         8\n",
      "18         7\n",
      "19         3\n",
      "22         3\n",
      "21         2\n",
      "26         1\n",
      "20         1\n",
      "25         1\n",
      "27         1\n",
      "Name: pdays, dtype: int64\n",
      "NAs for pdays : 0\n",
      "999 means client was not previously contacted\n"
     ]
    },
    {
     "data": {
      "image/png": "[encoded data removed]",
      "text/plain": [
       "<matplotlib.figure.Figure at 0x105fbd210>"
      ]
     },
     "metadata": {},
     "output_type": "display_data"
    }
   ],
   "source": [
    "# pdays\n",
    "#13 - pdays: number of days that passed by after the client was last contacted from \n",
    "#a previous campaign (numeric; 999 means client was not previously contacted)\n",
    "\n",
    "data.pdays.hist(bins = 50)\n",
    "print(data.pdays.value_counts())\n",
    "print(\"NAs for pdays : \" + str(data.pdays.isnull().values.sum()))\n",
    "print(\"999 means client was not previously contacted\")\n",
    "# Obs are Very heavily skewed towards a 999 (no previous contact response)- should consider transforming for feature engineering \n"
   ]
  },
  {
   "cell_type": "code",
   "execution_count": 18,
   "metadata": {
    "collapsed": false
   },
   "outputs": [
    {
     "name": "stdout",
     "output_type": "stream",
     "text": [
      "0    35563\n",
      "1     4561\n",
      "2      754\n",
      "3      216\n",
      "4       70\n",
      "5       18\n",
      "6        5\n",
      "7        1\n",
      "Name: previous, dtype: int64\n",
      "NAs for previous : 0\n"
     ]
    },
    {
     "data": {
      "image/png": "[encoded data removed]",
      "text/plain": [
       "<matplotlib.figure.Figure at 0x110ed45d0>"
      ]
     },
     "metadata": {},
     "output_type": "display_data"
    }
   ],
   "source": [
    "# previous\n",
    "#14 - previous: number of contacts performed before this campaign and for this client (numeric)\n",
    "data.previous.hist(bins = 50)\n",
    "print(data.previous.value_counts())\n",
    "print(\"NAs for previous : \" + str(data.previous.isnull().values.sum()))\n",
    "#stratify this into groups"
   ]
  },
  {
   "cell_type": "code",
   "execution_count": 19,
   "metadata": {
    "collapsed": false
   },
   "outputs": [
    {
     "name": "stdout",
     "output_type": "stream",
     "text": [
      "nonexistent    35563\n",
      "failure         4252\n",
      "success         1373\n",
      "Name: poutcome, dtype: int64\n",
      "NAs for poutcome : 0\n"
     ]
    }
   ],
   "source": [
    "# poutcome\n",
    "#15 - poutcome: outcome of the previous marketing campaign (categorical: 'failure','nonexistent','success')\n",
    "\n",
    "print(data.poutcome.value_counts())\n",
    "print(\"NAs for poutcome : \" + str(data.poutcome.isnull().values.sum()))\n",
    "\n",
    "#Again, very unveven distribution, should consider dropping or feature engineering"
   ]
  },
  {
   "cell_type": "markdown",
   "metadata": {},
   "source": [
    "## social and economic context attributes"
   ]
  },
  {
   "cell_type": "code",
   "execution_count": null,
   "metadata": {
    "collapsed": false
   },
   "outputs": [],
   "source": [
    "# Emp_var_rate\n",
    "#16 - emp.var.rate: employment variation rate - quarterly indicator (numeric)\n",
    "\n",
    "\n",
    "data.emp_var_rate.hist(bins = 50)\n",
    "print(\"NAs for emp_var_rate : \" + str(data.emp_var_rate.isnull().values.sum()))\n"
   ]
  },
  {
   "cell_type": "code",
   "execution_count": null,
   "metadata": {
    "collapsed": false
   },
   "outputs": [],
   "source": [
    "# cons_price_idx\n",
    "#17 - cons.price.idx: consumer price index - monthly indicator (numeric) \n",
    "data.cons_price_idx.hist(bins = 50)\n",
    "print(\"NAs for cons_price_idx : \" + str(data.cons_price_idx.isnull().values.sum()))"
   ]
  },
  {
   "cell_type": "code",
   "execution_count": null,
   "metadata": {
    "collapsed": false
   },
   "outputs": [],
   "source": [
    "# cons_price_idx\n",
    "#18 - cons.conf.idx: consumer confidence index - monthly indicator (numeric) \n",
    "data.cons_conf_idx.hist(bins = 50)\n",
    "print(\"NAs for cons_conf_idx : \" + str(data.cons_conf_idx.isnull().values.sum()))"
   ]
  },
  {
   "cell_type": "code",
   "execution_count": null,
   "metadata": {
    "collapsed": false
   },
   "outputs": [],
   "source": [
    "#19 - euribor3m: euribor 3 month rate - daily indicator (numeric)\n",
    "#Considering the product of interest here is term deposits, would expect libor to be a very significant attribute\n",
    "\n",
    "\n",
    "data.euribor3m.hist(bins = 50)\n",
    "print(\"NAs for euribor3m : \" + str(data.euribor3m.isnull().values.sum()))"
   ]
  },
  {
   "cell_type": "code",
   "execution_count": null,
   "metadata": {
    "collapsed": false
   },
   "outputs": [],
   "source": [
    "#20 - nr.employed: number of employees - quarterly indicator (numeric)\n",
    "data.nr_employed.hist(bins = 50)\n",
    "print(\"NAs for nr_employed : \" + str(data.nr_employed.isnull().values.sum()))"
   ]
  },
  {
   "cell_type": "code",
   "execution_count": 20,
   "metadata": {
    "collapsed": false
   },
   "outputs": [
    {
     "data": {
      "text/plain": [
       "<matplotlib.axes._subplots.AxesSubplot at 0x111a6a490>"
      ]
     },
     "execution_count": 20,
     "metadata": {},
     "output_type": "execute_result"
    },
    {
     "data": {
      "image/png": "[encoded data removed]",
      "text/plain": [
       "<matplotlib.figure.Figure at 0x105fcaa50>"
      ]
     },
     "metadata": {},
     "output_type": "display_data"
    }
   ],
   "source": [
    "#21 - y - has the client subscribed a term deposit? (binary: 'yes','no')\n",
    "\n",
    "data.y.hist()"
   ]
  },
  {
   "cell_type": "markdown",
   "metadata": {},
   "source": [
    "## Encoding:"
   ]
  },
  {
   "cell_type": "code",
   "execution_count": null,
   "metadata": {
    "collapsed": false
   },
   "outputs": [],
   "source": [
    "#Dont use, better way to encode all \n",
    "#Label encoding for categorical features:\n",
    "\n",
    "#from sklearn.preprocessing import LabelEncoder\n",
    "\n",
    "#label_encoder = dict()\n",
    "\n",
    "#for feature in ['job','marital', 'education', 'default', 'housing', 'loan', 'contact',\n",
    "#               'month', 'day_of_week', 'poutcome', 'y']:\n",
    "#    print('encoding feature: {}'.format(feature))\n",
    "#    label_encoder[feature] = LabelEncoder()\n",
    "#    label_encoder[feature].fit(data[feature])\n",
    "#    data.loc[:, feature + '_le'] = label_encoder[feature].transform(data[feature])"
   ]
  },
  {
   "cell_type": "markdown",
   "metadata": {},
   "source": [
    "### Feature Engineering"
   ]
  },
  {
   "cell_type": "code",
   "execution_count": 21,
   "metadata": {
    "collapsed": true
   },
   "outputs": [],
   "source": [
    "#Stratify 'Campaign'\n",
    "data[\"strat_Campaign\"] = data.campaign.copy()\n",
    "data.loc[data[\"campaign\"] == 1, \"strat_Campaign\"] = 1\n",
    "data.loc[data[\"campaign\"] == 2, \"strat_Campaign\"] = 2\n",
    "data.loc[(data[\"campaign\"] >= 3) & (data[\"campaign\"] <= 5), \"strat_Campaign\"] = 3\n",
    "data.loc[data[\"campaign\"] >= 6, \"strat_Campaign\"] = 4\n"
   ]
  },
  {
   "cell_type": "code",
   "execution_count": 22,
   "metadata": {
    "collapsed": false
   },
   "outputs": [],
   "source": [
    "#Now we can drop the original 'Campaign' category:\n",
    "data = data.drop([\"campaign\"], axis = 1)"
   ]
  },
  {
   "cell_type": "code",
   "execution_count": 23,
   "metadata": {
    "collapsed": true
   },
   "outputs": [],
   "source": [
    "#Stratify 'Pdays' :\n",
    "data[\"strat_Pdays\"] = data.pdays.copy() \n",
    "data.loc[data[\"pdays\"] == 999, \"strat_Pdays\"] = 1 # never contacted\n",
    "data.loc[data[\"pdays\"] < 7, \"strat_Pdays\"] = 2 # contacted less than a week ago (5 working days)\n",
    "data.loc[(data[\"pdays\"] >= 7) & (data[\"pdays\"] < 14), \"strat_Pdays\"] = 3 # contacted less than 2 weeks ago\n",
    "data.loc[data[\"pdays\"] >= 14, \"strat_Pdays\"] = 4"
   ]
  },
  {
   "cell_type": "code",
   "execution_count": 24,
   "metadata": {
    "collapsed": true
   },
   "outputs": [],
   "source": [
    "#drop original Pdays:\n",
    "data = data.drop([\"pdays\"], axis = 1)"
   ]
  },
  {
   "cell_type": "code",
   "execution_count": 25,
   "metadata": {
    "collapsed": true
   },
   "outputs": [],
   "source": [
    "#Stratify 'Previous contact'\n",
    "data[\"strat_Previous\"] = data.previous.copy()\n",
    "data.loc[data[\"previous\"] == 0, \"strat_Previous\"] = 1\n",
    "data.loc[data[\"previous\"] == 1, \"strat_Previous\"] = 2\n",
    "data.loc[data[\"previous\"] >= 2, \"strat_Previous\"] = 3"
   ]
  },
  {
   "cell_type": "code",
   "execution_count": 26,
   "metadata": {
    "collapsed": true
   },
   "outputs": [],
   "source": [
    "#drop original Previous:\n",
    "data = data.drop([\"previous\"], axis = 1)"
   ]
  },
  {
   "cell_type": "code",
   "execution_count": null,
   "metadata": {
    "collapsed": true
   },
   "outputs": [],
   "source": [
    "#Stratify 'Duration': Replace Seconds with minutes, until every call after 5 mins\n",
    "#data['Strat_duration'] = data.duration.copy()\n",
    "#data.loc[data['duration'] <=60, 'strat_duration'] = 1\n",
    "#data.loc[data['duration'] >=61 & (data['duration'] <=120), 'strat_duration'] = 2\n",
    "#data.loc[data['duration'] >=121 & (data['duration'] <=180), 'strat_duration'] = 3\n",
    "#data.loc[data['duration'] >=181 & (data['duration'] <=240), 'strat_duration'] = 4\n",
    "#data.loc[data['duration'] >=241 & (data['duration'] <=240), 'strat_duration'] = 4"
   ]
  },
  {
   "cell_type": "code",
   "execution_count": 27,
   "metadata": {
    "collapsed": false,
    "scrolled": true
   },
   "outputs": [],
   "source": [
    "pd.set_option('display.float_format', lambda x: '%.3f' % x)\n",
    "#Stratify 'Duration': Replace Seconds with minutes, until every call after 5 mins\n",
    "#data['Strat_duration'] = data.duration.copy()\n",
    "#data.loc[data['duration'] / 60, 'strat_duration']\n",
    "data['duration_mins'] = data['duration']/60\n"
   ]
  },
  {
   "cell_type": "code",
   "execution_count": 28,
   "metadata": {
    "collapsed": true
   },
   "outputs": [],
   "source": [
    "#Now we can drop the original duration column:\n",
    "data = data.drop([\"duration\"], axis = 1)"
   ]
  },
  {
   "cell_type": "code",
   "execution_count": null,
   "metadata": {
    "collapsed": false,
    "scrolled": true
   },
   "outputs": [],
   "source": [
    "\n",
    "data.head()"
   ]
  },
  {
   "cell_type": "code",
   "execution_count": null,
   "metadata": {
    "collapsed": false
   },
   "outputs": [],
   "source": [
    "data.shape"
   ]
  },
  {
   "cell_type": "code",
   "execution_count": null,
   "metadata": {
    "collapsed": false
   },
   "outputs": [],
   "source": [
    "data.y.head()"
   ]
  },
  {
   "cell_type": "code",
   "execution_count": 29,
   "metadata": {
    "collapsed": false
   },
   "outputs": [
    {
     "name": "stdout",
     "output_type": "stream",
     "text": [
      "Numerical features : 10\n",
      "Categorical features : 9\n"
     ]
    }
   ],
   "source": [
    "# Separate out the numerical features (minus the target) and categorical features\n",
    "y = data.y\n",
    "categorical_features = data.select_dtypes(include = [\"object\"]).columns\n",
    "numerical_features = data.select_dtypes(exclude = [\"object\"]).columns\n",
    "numerical_features = numerical_features.drop(\"y\")\n",
    "print(\"Numerical features : \" + str(len(numerical_features)))\n",
    "print(\"Categorical features : \" + str(len(categorical_features)))\n",
    "data_num = data[numerical_features]\n",
    "data_cat = data[categorical_features]\n"
   ]
  },
  {
   "cell_type": "code",
   "execution_count": null,
   "metadata": {
    "collapsed": true
   },
   "outputs": [],
   "source": []
  },
  {
   "cell_type": "markdown",
   "metadata": {
    "collapsed": false
   },
   "source": [
    "### Standardize Features:"
   ]
  },
  {
   "cell_type": "code",
   "execution_count": 30,
   "metadata": {
    "collapsed": true
   },
   "outputs": [],
   "source": [
    "# Standardize numerical features\n",
    "scale = StandardScaler()\n",
    "data_num = pd.DataFrame(scale.fit_transform(data_num), columns = data_num.columns)"
   ]
  },
  {
   "cell_type": "code",
   "execution_count": 31,
   "metadata": {
    "collapsed": false
   },
   "outputs": [],
   "source": [
    "#Create dummys for cat_features:\n",
    "data_cat = pd.get_dummies(data_cat)"
   ]
  },
  {
   "cell_type": "code",
   "execution_count": 32,
   "metadata": {
    "collapsed": false
   },
   "outputs": [
    {
     "name": "stdout",
     "output_type": "stream",
     "text": [
      "New number of features : 55\n"
     ]
    }
   ],
   "source": [
    "# Join categorical and numerical features\n",
    "data = pd.concat([data_num, data_cat], axis = 1)\n",
    "print(\"New number of features : \" + str(data.shape[1]))"
   ]
  },
  {
   "cell_type": "code",
   "execution_count": 33,
   "metadata": {
    "collapsed": false
   },
   "outputs": [
    {
     "name": "stdout",
     "output_type": "stream",
     "text": [
      "(41188, 55)\n",
      "(41188,)\n"
     ]
    }
   ],
   "source": [
    "print (data.shape)\n",
    "print (y.shape)\n"
   ]
  },
  {
   "cell_type": "code",
   "execution_count": null,
   "metadata": {
    "collapsed": false
   },
   "outputs": [],
   "source": [
    "#First Data clean:\n",
    "# Write data in CSV files\n",
    "#data.to_csv(\"pro_Data.csv\", index = False)\n",
    "#y.to_csv(\"pro_y.csv\", index = False, header= False)"
   ]
  },
  {
   "cell_type": "code",
   "execution_count": null,
   "metadata": {
    "collapsed": true
   },
   "outputs": [],
   "source": [
    "#Second data clean:\n",
    "# Write data in CSV files\n",
    "data.to_csv(\"pro2_Data.csv\", index = False)\n",
    "y.to_csv(\"pro2_y.csv\", index = False, header= False)"
   ]
  },
  {
   "cell_type": "code",
   "execution_count": 38,
   "metadata": {
    "collapsed": true
   },
   "outputs": [],
   "source": [
    "#Third data clean:\n",
    "# Write data in CSV files\n",
    "data.to_csv(\"pro3_Data.csv\", index = False)\n",
    "y.to_csv(\"pro3_y.csv\", index = False, header= False)"
   ]
  },
  {
   "cell_type": "code",
   "execution_count": null,
   "metadata": {
    "collapsed": false
   },
   "outputs": [],
   "source": []
  },
  {
   "cell_type": "code",
   "execution_count": null,
   "metadata": {
    "collapsed": true
   },
   "outputs": [],
   "source": []
  }
 ],
 "metadata": {
  "kernelspec": {
   "display_name": "Python 2",
   "language": "python",
   "name": "python2"
  },
  "language_info": {
   "codemirror_mode": {
    "name": "ipython",
    "version": 2
   },
   "file_extension": ".py",
   "mimetype": "text/x-python",
   "name": "python",
   "nbconvert_exporter": "python",
   "pygments_lexer": "ipython2",
   "version": "2.7.13"
  }
 },
 "nbformat": 4,
 "nbformat_minor": 2
}

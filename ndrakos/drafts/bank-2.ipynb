{
 "cells": [
  {
   "cell_type": "code",
   "execution_count": 1,
   "metadata": {
    "collapsed": true
   },
   "outputs": [],
   "source": [
    "# To support both python 2 and python 3\n",
    "from __future__ import division, print_function, unicode_literals\n",
    "\n",
    "# usual imports\n",
    "import numpy as np\n",
    "import pandas as pd\n",
    "import visualization as vis\n",
    "\n",
    "# to make this notebook's output stable across runs\n",
    "np.random.seed(42)\n",
    "\n",
    "# To plot pretty figures\n",
    "%matplotlib inline\n",
    "import matplotlib\n",
    "import matplotlib.pyplot as plt\n",
    "plt.rcParams['axes.labelsize'] = 14\n",
    "plt.rcParams['xtick.labelsize'] = 12\n",
    "plt.rcParams['ytick.labelsize'] = 12"
   ]
  },
  {
   "cell_type": "code",
   "execution_count": 4,
   "metadata": {
    "collapsed": false
   },
   "outputs": [
    {
     "name": "stdout",
     "output_type": "stream",
     "text": [
      "<class 'pandas.core.frame.DataFrame'>\n",
      "RangeIndex: 41188 entries, 0 to 41187\n",
      "Data columns (total 21 columns):\n",
      "age               41188 non-null int64\n",
      "job               41188 non-null object\n",
      "marital           41188 non-null object\n",
      "education         41188 non-null object\n",
      "default           41188 non-null object\n",
      "housing           41188 non-null object\n",
      "loan              41188 non-null object\n",
      "contact           41188 non-null object\n",
      "month             41188 non-null object\n",
      "day_of_week       41188 non-null object\n",
      "duration          41188 non-null int64\n",
      "campaign          41188 non-null int64\n",
      "pdays             41188 non-null int64\n",
      "previous          41188 non-null int64\n",
      "poutcome          41188 non-null object\n",
      "emp.var.rate      41188 non-null float64\n",
      "cons.price.idx    41188 non-null float64\n",
      "cons.conf.idx     41188 non-null float64\n",
      "euribor3m         41188 non-null float64\n",
      "nr.employed       41188 non-null float64\n",
      "y                 41188 non-null object\n",
      "dtypes: float64(5), int64(5), object(11)\n",
      "memory usage: 6.6+ MB\n"
     ]
    }
   ],
   "source": [
    "bank = pd.read_csv('~/data/bank/bank-additional-full.csv', sep=';')\n",
    "bank.info()"
   ]
  },
  {
   "cell_type": "code",
   "execution_count": 14,
   "metadata": {
    "collapsed": false
   },
   "outputs": [
    {
     "name": "stdout",
     "output_type": "stream",
     "text": [
      "encoding feature: job\n",
      "encoding feature: marital\n",
      "encoding feature: education\n",
      "encoding feature: default\n",
      "encoding feature: housing\n",
      "encoding feature: loan\n",
      "encoding feature: contact\n",
      "encoding feature: month\n",
      "encoding feature: day_of_week\n",
      "encoding feature: poutcome\n",
      "encoding feature: y\n"
     ]
    }
   ],
   "source": [
    "## label encoding\n",
    "from sklearn.preprocessing import LabelEncoder\n",
    "\n",
    "label_encoder = dict()\n",
    "\n",
    "for feature in ['job','marital', 'education', 'default', 'housing', 'loan', 'contact',\n",
    "               'month', 'day_of_week', 'poutcome', 'y']:\n",
    "    print('encoding feature: {}'.format(feature))\n",
    "    label_encoder[feature] = LabelEncoder()\n",
    "    label_encoder[feature].fit(bank[feature])\n",
    "    bank.loc[:, feature + '_le'] = label_encoder[feature].transform(bank[feature])\n"
   ]
  },
  {
   "cell_type": "code",
   "execution_count": 15,
   "metadata": {
    "collapsed": false
   },
   "outputs": [
    {
     "data": {
      "text/html": [
       "<div>\n",
       "<style>\n",
       "    .dataframe thead tr:only-child th {\n",
       "        text-align: right;\n",
       "    }\n",
       "\n",
       "    .dataframe thead th {\n",
       "        text-align: left;\n",
       "    }\n",
       "\n",
       "    .dataframe tbody tr th {\n",
       "        vertical-align: top;\n",
       "    }\n",
       "</style>\n",
       "<table border=\"1\" class=\"dataframe\">\n",
       "  <thead>\n",
       "    <tr style=\"text-align: right;\">\n",
       "      <th></th>\n",
       "      <th>age</th>\n",
       "      <th>job</th>\n",
       "      <th>marital</th>\n",
       "      <th>education</th>\n",
       "      <th>default</th>\n",
       "      <th>housing</th>\n",
       "      <th>loan</th>\n",
       "      <th>contact</th>\n",
       "      <th>month</th>\n",
       "      <th>day_of_week</th>\n",
       "      <th>...</th>\n",
       "      <th>education_le</th>\n",
       "      <th>marital_le</th>\n",
       "      <th>default_le</th>\n",
       "      <th>housing_le</th>\n",
       "      <th>loan_le</th>\n",
       "      <th>contact_le</th>\n",
       "      <th>month_le</th>\n",
       "      <th>day_of_week_le</th>\n",
       "      <th>poutcome_le</th>\n",
       "      <th>y_le</th>\n",
       "    </tr>\n",
       "  </thead>\n",
       "  <tbody>\n",
       "    <tr>\n",
       "      <th>0</th>\n",
       "      <td>56</td>\n",
       "      <td>housemaid</td>\n",
       "      <td>married</td>\n",
       "      <td>basic.4y</td>\n",
       "      <td>no</td>\n",
       "      <td>no</td>\n",
       "      <td>no</td>\n",
       "      <td>telephone</td>\n",
       "      <td>may</td>\n",
       "      <td>mon</td>\n",
       "      <td>...</td>\n",
       "      <td>0</td>\n",
       "      <td>1</td>\n",
       "      <td>0</td>\n",
       "      <td>0</td>\n",
       "      <td>0</td>\n",
       "      <td>1</td>\n",
       "      <td>6</td>\n",
       "      <td>1</td>\n",
       "      <td>1</td>\n",
       "      <td>0</td>\n",
       "    </tr>\n",
       "    <tr>\n",
       "      <th>1</th>\n",
       "      <td>57</td>\n",
       "      <td>services</td>\n",
       "      <td>married</td>\n",
       "      <td>high.school</td>\n",
       "      <td>unknown</td>\n",
       "      <td>no</td>\n",
       "      <td>no</td>\n",
       "      <td>telephone</td>\n",
       "      <td>may</td>\n",
       "      <td>mon</td>\n",
       "      <td>...</td>\n",
       "      <td>3</td>\n",
       "      <td>1</td>\n",
       "      <td>1</td>\n",
       "      <td>0</td>\n",
       "      <td>0</td>\n",
       "      <td>1</td>\n",
       "      <td>6</td>\n",
       "      <td>1</td>\n",
       "      <td>1</td>\n",
       "      <td>0</td>\n",
       "    </tr>\n",
       "    <tr>\n",
       "      <th>2</th>\n",
       "      <td>37</td>\n",
       "      <td>services</td>\n",
       "      <td>married</td>\n",
       "      <td>high.school</td>\n",
       "      <td>no</td>\n",
       "      <td>yes</td>\n",
       "      <td>no</td>\n",
       "      <td>telephone</td>\n",
       "      <td>may</td>\n",
       "      <td>mon</td>\n",
       "      <td>...</td>\n",
       "      <td>3</td>\n",
       "      <td>1</td>\n",
       "      <td>0</td>\n",
       "      <td>2</td>\n",
       "      <td>0</td>\n",
       "      <td>1</td>\n",
       "      <td>6</td>\n",
       "      <td>1</td>\n",
       "      <td>1</td>\n",
       "      <td>0</td>\n",
       "    </tr>\n",
       "    <tr>\n",
       "      <th>3</th>\n",
       "      <td>40</td>\n",
       "      <td>admin.</td>\n",
       "      <td>married</td>\n",
       "      <td>basic.6y</td>\n",
       "      <td>no</td>\n",
       "      <td>no</td>\n",
       "      <td>no</td>\n",
       "      <td>telephone</td>\n",
       "      <td>may</td>\n",
       "      <td>mon</td>\n",
       "      <td>...</td>\n",
       "      <td>1</td>\n",
       "      <td>1</td>\n",
       "      <td>0</td>\n",
       "      <td>0</td>\n",
       "      <td>0</td>\n",
       "      <td>1</td>\n",
       "      <td>6</td>\n",
       "      <td>1</td>\n",
       "      <td>1</td>\n",
       "      <td>0</td>\n",
       "    </tr>\n",
       "    <tr>\n",
       "      <th>4</th>\n",
       "      <td>56</td>\n",
       "      <td>services</td>\n",
       "      <td>married</td>\n",
       "      <td>high.school</td>\n",
       "      <td>no</td>\n",
       "      <td>no</td>\n",
       "      <td>yes</td>\n",
       "      <td>telephone</td>\n",
       "      <td>may</td>\n",
       "      <td>mon</td>\n",
       "      <td>...</td>\n",
       "      <td>3</td>\n",
       "      <td>1</td>\n",
       "      <td>0</td>\n",
       "      <td>0</td>\n",
       "      <td>2</td>\n",
       "      <td>1</td>\n",
       "      <td>6</td>\n",
       "      <td>1</td>\n",
       "      <td>1</td>\n",
       "      <td>0</td>\n",
       "    </tr>\n",
       "  </tbody>\n",
       "</table>\n",
       "<p>5 rows × 32 columns</p>\n",
       "</div>"
      ],
      "text/plain": [
       "   age        job  marital    education  default housing loan    contact  \\\n",
       "0   56  housemaid  married     basic.4y       no      no   no  telephone   \n",
       "1   57   services  married  high.school  unknown      no   no  telephone   \n",
       "2   37   services  married  high.school       no     yes   no  telephone   \n",
       "3   40     admin.  married     basic.6y       no      no   no  telephone   \n",
       "4   56   services  married  high.school       no      no  yes  telephone   \n",
       "\n",
       "  month day_of_week  ...   education_le  marital_le  default_le  housing_le  \\\n",
       "0   may         mon  ...              0           1           0           0   \n",
       "1   may         mon  ...              3           1           1           0   \n",
       "2   may         mon  ...              3           1           0           2   \n",
       "3   may         mon  ...              1           1           0           0   \n",
       "4   may         mon  ...              3           1           0           0   \n",
       "\n",
       "  loan_le  contact_le  month_le  day_of_week_le  poutcome_le  y_le  \n",
       "0       0           1         6               1            1     0  \n",
       "1       0           1         6               1            1     0  \n",
       "2       0           1         6               1            1     0  \n",
       "3       0           1         6               1            1     0  \n",
       "4       2           1         6               1            1     0  \n",
       "\n",
       "[5 rows x 32 columns]"
      ]
     },
     "execution_count": 15,
     "metadata": {},
     "output_type": "execute_result"
    }
   ],
   "source": [
    "bank.head()"
   ]
  },
  {
   "cell_type": "code",
   "execution_count": 24,
   "metadata": {
    "collapsed": false
   },
   "outputs": [],
   "source": [
    "labels = bank['y_le']\n",
    "train =bank.drop(['job','marital', 'education', 'default', 'housing', 'loan', 'contact',\n",
    "               'month', 'day_of_week', 'poutcome', 'y', 'y_le'], axis=1)"
   ]
  },
  {
   "cell_type": "code",
   "execution_count": 25,
   "metadata": {
    "collapsed": false
   },
   "outputs": [
    {
     "name": "stdout",
     "output_type": "stream",
     "text": [
      "(41188, 20)\n",
      "(41188,)\n"
     ]
    }
   ],
   "source": [
    "print (train.shape)\n",
    "print (labels.shape)"
   ]
  },
  {
   "cell_type": "code",
   "execution_count": 23,
   "metadata": {
    "collapsed": false
   },
   "outputs": [
    {
     "name": "stdout",
     "output_type": "stream",
     "text": [
      "<class 'pandas.core.frame.DataFrame'>\n",
      "RangeIndex: 41188 entries, 0 to 41187\n",
      "Data columns (total 21 columns):\n",
      "age               41188 non-null int64\n",
      "duration          41188 non-null int64\n",
      "campaign          41188 non-null int64\n",
      "pdays             41188 non-null int64\n",
      "previous          41188 non-null int64\n",
      "emp.var.rate      41188 non-null float64\n",
      "cons.price.idx    41188 non-null float64\n",
      "cons.conf.idx     41188 non-null float64\n",
      "euribor3m         41188 non-null float64\n",
      "nr.employed       41188 non-null float64\n",
      "job_le            41188 non-null int64\n",
      "education_le      41188 non-null int64\n",
      "marital_le        41188 non-null int64\n",
      "default_le        41188 non-null int64\n",
      "housing_le        41188 non-null int64\n",
      "loan_le           41188 non-null int64\n",
      "contact_le        41188 non-null int64\n",
      "month_le          41188 non-null int64\n",
      "day_of_week_le    41188 non-null int64\n",
      "poutcome_le       41188 non-null int64\n",
      "y_le              41188 non-null int64\n",
      "dtypes: float64(5), int64(16)\n",
      "memory usage: 6.6 MB\n"
     ]
    }
   ],
   "source": [
    "train.info()"
   ]
  },
  {
   "cell_type": "code",
   "execution_count": 26,
   "metadata": {
    "collapsed": true
   },
   "outputs": [],
   "source": [
    "import sklearn\n",
    "import sklearn.model_selection\n",
    "\n",
    "X_train, X_test, y_train, y_test= sklearn.model_selection.train_test_split(train, labels)"
   ]
  },
  {
   "cell_type": "code",
   "execution_count": 27,
   "metadata": {
    "collapsed": true
   },
   "outputs": [],
   "source": [
    "from __future__ import print_function\n",
    "import sklearn.metrics\n",
    "import time\n",
    "\n",
    "def evaluate_model(clf):\n",
    "    \"\"\"Scores a model using log loss with the created train and test sets.\"\"\"\n",
    "    start = time.time()\n",
    "    clf.fit(X_train, y_train)\n",
    "    train_loss = sklearn.metrics.log_loss(y_train, clf.predict_proba(X_train))\n",
    "    test_loss = sklearn.metrics.log_loss(y_test, clf.predict_proba(X_test))\n",
    "    print(\"Train score:\", train_loss)\n",
    "    print(\"Test score:\", test_loss)\n",
    "    print(\"Total time:\", time.time() - start)\n",
    "    print()\n",
    "    return test_loss"
   ]
  },
  {
   "cell_type": "code",
   "execution_count": null,
   "metadata": {
    "collapsed": false
   },
   "outputs": [],
   "source": [
    "type(X_train)"
   ]
  },
  {
   "cell_type": "code",
   "execution_count": null,
   "metadata": {
    "collapsed": false
   },
   "outputs": [],
   "source": [
    "# evaluate 1 model\n",
    "from sklearn.linear_model import LogisticRegression\n",
    "logit = LogisticRegression()\n",
    "evaluate_model(logit)"
   ]
  },
  {
   "cell_type": "code",
   "execution_count": 28,
   "metadata": {
    "collapsed": false
   },
   "outputs": [
    {
     "name": "stdout",
     "output_type": "stream",
     "text": [
      "Train score: 0.218887084632\n",
      "Test score: 0.210861409309\n",
      "Total time: 0.373260974884\n",
      "\n"
     ]
    },
    {
     "data": {
      "text/plain": [
       "0.21086140930883918"
      ]
     },
     "execution_count": 28,
     "metadata": {},
     "output_type": "execute_result"
    }
   ],
   "source": [
    "# evaluate 1 model\n",
    "from sklearn.linear_model import LogisticRegression\n",
    "logit = LogisticRegression()\n",
    "evaluate_model(logit)"
   ]
  },
  {
   "cell_type": "code",
   "execution_count": 29,
   "metadata": {
    "collapsed": false
   },
   "outputs": [
    {
     "name": "stdout",
     "output_type": "stream",
     "text": [
      "Train score: 0.214897828924\n",
      "Test score: 0.208603923726\n",
      "Total time: 0.290970087051\n",
      "\n"
     ]
    },
    {
     "data": {
      "text/plain": [
       "0.20860392372590592"
      ]
     },
     "execution_count": 29,
     "metadata": {},
     "output_type": "execute_result"
    }
   ],
   "source": [
    "# Scaling the variables is often useful and will make the model converge more quickly.\n",
    "# Let's try it using a Pipeline\n",
    "from sklearn.pipeline import Pipeline\n",
    "from sklearn.preprocessing import StandardScaler\n",
    "\n",
    "pipe = Pipeline([('scale', StandardScaler()), \n",
    "                 ('classifier', LogisticRegression())])\n",
    "evaluate_model(pipe)"
   ]
  },
  {
   "cell_type": "code",
   "execution_count": 31,
   "metadata": {
    "collapsed": false
   },
   "outputs": [
    {
     "name": "stderr",
     "output_type": "stream",
     "text": [
      "/Users/Drake/anaconda/lib/python2.7/site-packages/sklearn/cross_validation.py:44: DeprecationWarning: This module was deprecated in version 0.18 in favor of the model_selection module into which all the refactored classes and functions are moved. Also note that the interface of the new CV iterators are different from that of this module. This module will be removed in 0.20.\n",
      "  \"This module will be removed in 0.20.\", DeprecationWarning)\n",
      "/Users/Drake/anaconda/lib/python2.7/site-packages/sklearn/learning_curve.py:23: DeprecationWarning: This module was deprecated in version 0.18 in favor of the model_selection module into which all the functions are moved. This module will be removed in 0.20\n",
      "  DeprecationWarning)\n"
     ]
    },
    {
     "data": {
      "text/plain": [
       "[<matplotlib.lines.Line2D at 0x11dd8c090>]"
      ]
     },
     "execution_count": 31,
     "metadata": {},
     "output_type": "execute_result"
    },
    {
     "data": {
      "image/png": "[encoded data removed]",
      "text/plain": [
       "<matplotlib.figure.Figure at 0x11da5e510>"
      ]
     },
     "metadata": {},
     "output_type": "display_data"
    }
   ],
   "source": [
    "# evaluate for varying values of C. Plot training curves\n",
    "import sklearn.learning_curve\n",
    "\n",
    "C_values = [0.00001, 0.0001, 0.001, 0.01,0.1,1,10,100]\n",
    "\n",
    "train_scores, test_scores = sklearn.learning_curve.validation_curve(\n",
    "    LogisticRegression(), X_train, y_train, 'C', C_values, scoring='neg_log_loss')\n",
    "plt.plot(np.mean(train_scores, axis=1), label='Train')\n",
    "plt.plot(np.mean(test_scores, axis=1), label='Test')"
   ]
  },
  {
   "cell_type": "code",
   "execution_count": 32,
   "metadata": {
    "collapsed": false
   },
   "outputs": [
    {
     "name": "stdout",
     "output_type": "stream",
     "text": [
      "Train score: 0.217131153294\n",
      "Test score: 0.209663113056\n",
      "Total time: 521.190696001\n",
      "\n"
     ]
    },
    {
     "data": {
      "text/plain": [
       "{'mean_fit_time': array([ 35.90118694,   0.1677556 ,  37.95330167,   0.52334436,\n",
       "         36.98002807,   0.18571472,  49.72743003,   0.39369861]),\n",
       " 'mean_score_time': array([ 0.00523965,  0.00512004,  0.004836  ,  0.00606036,  0.00569701,\n",
       "         0.00521088,  0.00462063,  0.00559107]),\n",
       " 'mean_test_score': array([-0.21688981, -0.21973083, -0.38173406, -0.37981152, -0.2166314 ,\n",
       "        -0.21866243, -0.38052714, -0.38049719]),\n",
       " 'mean_train_score': array([-0.21629121, -0.21937481, -0.38092845, -0.37884041, -0.21606056,\n",
       "        -0.21842702, -0.37960455, -0.37943774]),\n",
       " u'param_C': masked_array(data = [0.1 0.1 0.1 0.1 1 1 1 1],\n",
       "              mask = [False False False False False False False False],\n",
       "        fill_value = ?),\n",
       " u'param_class_weight': masked_array(data = [None None u'balanced' u'balanced' None None u'balanced' u'balanced'],\n",
       "              mask = [False False False False False False False False],\n",
       "        fill_value = ?),\n",
       " u'param_penalty': masked_array(data = [u'l1' u'l2' u'l1' u'l2' u'l1' u'l2' u'l1' u'l2'],\n",
       "              mask = [False False False False False False False False],\n",
       "        fill_value = ?),\n",
       " 'params': ({u'C': 0.1, u'class_weight': None, u'penalty': u'l1'},\n",
       "  {u'C': 0.1, u'class_weight': None, u'penalty': u'l2'},\n",
       "  {u'C': 0.1, u'class_weight': u'balanced', u'penalty': u'l1'},\n",
       "  {u'C': 0.1, u'class_weight': u'balanced', u'penalty': u'l2'},\n",
       "  {u'C': 1, u'class_weight': None, u'penalty': u'l1'},\n",
       "  {u'C': 1, u'class_weight': None, u'penalty': u'l2'},\n",
       "  {u'C': 1, u'class_weight': u'balanced', u'penalty': u'l1'},\n",
       "  {u'C': 1, u'class_weight': u'balanced', u'penalty': u'l2'}),\n",
       " 'rank_test_score': array([2, 4, 8, 5, 1, 3, 7, 6], dtype=int32),\n",
       " 'split0_test_score': array([-0.22159484, -0.22291968, -0.38427548, -0.38341939, -0.22175463,\n",
       "        -0.2229461 , -0.38337378, -0.38459872]),\n",
       " 'split0_train_score': array([-0.21388946, -0.21610972, -0.37713135, -0.37471334, -0.21406159,\n",
       "        -0.21612926, -0.37558061, -0.37533873]),\n",
       " 'split1_test_score': array([-0.21640111, -0.22076326, -0.38930281, -0.38783315, -0.21573203,\n",
       "        -0.21752814, -0.3890688 , -0.38832711]),\n",
       " 'split1_train_score': array([-0.21671066, -0.22051734, -0.38080377, -0.37981896, -0.21619682,\n",
       "        -0.21764476, -0.38065897, -0.3804423 ]),\n",
       " 'split2_test_score': array([-0.21267262, -0.21550884, -0.37162265, -0.36818055, -0.21240664,\n",
       "        -0.21551234, -0.36913745, -0.36856419]),\n",
       " 'split2_train_score': array([-0.21827352, -0.22149737, -0.38485022, -0.38198892, -0.21792326,\n",
       "        -0.22150705, -0.38257407, -0.38253218]),\n",
       " 'std_fit_time': array([  7.85762304e-01,   5.78228576e-03,   7.15662045e+00,\n",
       "          1.26672912e-01,   5.29463541e+00,   2.77169816e-02,\n",
       "          2.79347480e+00,   4.27992213e-02]),\n",
       " 'std_score_time': array([  6.80225472e-05,   3.88616287e-04,   1.87850575e-04,\n",
       "          9.88084508e-04,   8.83462825e-04,   6.16809677e-04,\n",
       "          4.33241540e-05,   9.12081367e-04]),\n",
       " 'std_test_score': array([ 0.00365884,  0.00311229,  0.0074381 ,  0.00841885,  0.00386893,\n",
       "         0.00313902,  0.00838205,  0.00857349]),\n",
       " 'std_train_score': array([ 0.00181419,  0.00234317,  0.00315245,  0.00304977,  0.00157946,\n",
       "         0.00226408,  0.00295082,  0.0030214 ])}"
      ]
     },
     "execution_count": 32,
     "metadata": {},
     "output_type": "execute_result"
    }
   ],
   "source": [
    "# Grid search: try 8 different possibilities\n",
    "from sklearn.model_selection import GridSearchCV\n",
    "\n",
    "params = {'C' : [0.1,1], 'penalty': ['l1', 'l2'], \n",
    "          'class_weight':[None, 'balanced'] }\n",
    "grid = GridSearchCV(LogisticRegression(), params, scoring='neg_log_loss')\n",
    "evaluate_model(grid)\n",
    "grid.cv_results_"
   ]
  },
  {
   "cell_type": "code",
   "execution_count": 33,
   "metadata": {
    "collapsed": false
   },
   "outputs": [
    {
     "data": {
      "text/plain": [
       "LogisticRegression(C=1, class_weight=None, dual=False, fit_intercept=True,\n",
       "          intercept_scaling=1, max_iter=100, multi_class='ovr', n_jobs=1,\n",
       "          penalty=u'l1', random_state=None, solver='liblinear', tol=0.0001,\n",
       "          verbose=0, warm_start=False)"
      ]
     },
     "execution_count": 33,
     "metadata": {},
     "output_type": "execute_result"
    }
   ],
   "source": [
    "grid.best_estimator_"
   ]
  },
  {
   "cell_type": "code",
   "execution_count": 34,
   "metadata": {
    "collapsed": false
   },
   "outputs": [
    {
     "name": "stdout",
     "output_type": "stream",
     "text": [
      "Train score: 0.0529751003359\n",
      "Test score: 0.186380893246\n",
      "Total time: 2.29831314087\n",
      "\n"
     ]
    },
    {
     "data": {
      "text/plain": [
       "0.18638089324563464"
      ]
     },
     "execution_count": 34,
     "metadata": {},
     "output_type": "execute_result"
    }
   ],
   "source": [
    "from sklearn.ensemble import RandomForestClassifier\n",
    "rf = RandomForestClassifier(n_estimators=100, max_depth=20, n_jobs=7, )\n",
    "evaluate_model(rf)"
   ]
  },
  {
   "cell_type": "code",
   "execution_count": 35,
   "metadata": {
    "collapsed": false
   },
   "outputs": [
    {
     "data": {
      "text/plain": [
       "[<matplotlib.lines.Line2D at 0x11bc00090>]"
      ]
     },
     "execution_count": 35,
     "metadata": {},
     "output_type": "execute_result"
    },
    {
     "data": {
      "image/png": "[encoded data removed]",
      "text/plain": [
       "<matplotlib.figure.Figure at 0x11bfbf3d0>"
      ]
     },
     "metadata": {},
     "output_type": "display_data"
    }
   ],
   "source": [
    "train_scores, test_scores = sklearn.model_selection.validation_curve(\n",
    "    RandomForestClassifier(n_jobs=7), X_train, y_train, 'max_depth', [1,3,6,10,20,None])\n",
    "plt.plot(np.mean(train_scores, axis=1), label='Train')\n",
    "plt.plot(np.mean(test_scores, axis=1), label='Test')"
   ]
  },
  {
   "cell_type": "code",
   "execution_count": 36,
   "metadata": {
    "collapsed": true
   },
   "outputs": [],
   "source": [
    "from sklearn import linear_model\n",
    "logit = linear_model.LogisticRegression()"
   ]
  },
  {
   "cell_type": "code",
   "execution_count": 37,
   "metadata": {
    "collapsed": false
   },
   "outputs": [
    {
     "data": {
      "text/plain": [
       "{'C': 1.0,\n",
       " 'class_weight': None,\n",
       " 'dual': False,\n",
       " 'fit_intercept': True,\n",
       " 'intercept_scaling': 1,\n",
       " 'max_iter': 100,\n",
       " 'multi_class': 'ovr',\n",
       " 'n_jobs': 1,\n",
       " 'penalty': 'l2',\n",
       " 'random_state': None,\n",
       " 'solver': 'liblinear',\n",
       " 'tol': 0.0001,\n",
       " 'verbose': 0,\n",
       " 'warm_start': False}"
      ]
     },
     "execution_count": 37,
     "metadata": {},
     "output_type": "execute_result"
    }
   ],
   "source": [
    "logit.get_params()"
   ]
  },
  {
   "cell_type": "code",
   "execution_count": 2,
   "metadata": {
    "collapsed": false
   },
   "outputs": [
    {
     "ename": "NameError",
     "evalue": "name 'train' is not defined",
     "output_type": "error",
     "traceback": [
      "\u001b[0;31m---------------------------------------------------------------------------\u001b[0m",
      "\u001b[0;31mNameError\u001b[0m                                 Traceback (most recent call last)",
      "\u001b[0;32m<ipython-input-2-3d0c9a976f59>\u001b[0m in \u001b[0;36m<module>\u001b[0;34m()\u001b[0m\n\u001b[0;32m----> 1\u001b[0;31m \u001b[0mtrain\u001b[0m\u001b[0;34m.\u001b[0m\u001b[0meducation\u001b[0m\u001b[0;34m[\u001b[0m\u001b[0;34m:\u001b[0m\u001b[0;36m50\u001b[0m\u001b[0;34m]\u001b[0m\u001b[0;34m\u001b[0m\u001b[0m\n\u001b[0m",
      "\u001b[0;31mNameError\u001b[0m: name 'train' is not defined"
     ]
    }
   ],
   "source": []
  },
  {
   "cell_type": "code",
   "execution_count": null,
   "metadata": {
    "collapsed": true
   },
   "outputs": [],
   "source": []
  },
  {
   "cell_type": "code",
   "execution_count": null,
   "metadata": {
    "collapsed": true
   },
   "outputs": [],
   "source": []
  },
  {
   "cell_type": "code",
   "execution_count": null,
   "metadata": {
    "collapsed": true
   },
   "outputs": [],
   "source": []
  },
  {
   "cell_type": "code",
   "execution_count": null,
   "metadata": {
    "collapsed": true
   },
   "outputs": [],
   "source": []
  },
  {
   "cell_type": "code",
   "execution_count": null,
   "metadata": {
    "collapsed": true
   },
   "outputs": [],
   "source": []
  }
 ],
 "metadata": {
  "kernelspec": {
   "display_name": "Python 2",
   "language": "python",
   "name": "python2"
  },
  "language_info": {
   "codemirror_mode": {
    "name": "ipython",
    "version": 2
   },
   "file_extension": ".py",
   "mimetype": "text/x-python",
   "name": "python",
   "nbconvert_exporter": "python",
   "pygments_lexer": "ipython2",
   "version": "2.7.13"
  }
 },
 "nbformat": 4,
 "nbformat_minor": 2
}

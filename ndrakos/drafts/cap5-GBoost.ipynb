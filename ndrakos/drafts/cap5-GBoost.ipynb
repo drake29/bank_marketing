{
 "cells": [
  {
   "cell_type": "code",
   "execution_count": 1,
   "metadata": {
    "collapsed": false
   },
   "outputs": [
    {
     "name": "stderr",
     "output_type": "stream",
     "text": [
      "/Users/Drake/anaconda/lib/python2.7/site-packages/sklearn/cross_validation.py:44: DeprecationWarning: This module was deprecated in version 0.18 in favor of the model_selection module into which all the refactored classes and functions are moved. Also note that the interface of the new CV iterators are different from that of this module. This module will be removed in 0.20.\n",
      "  \"This module will be removed in 0.20.\", DeprecationWarning)\n"
     ]
    }
   ],
   "source": [
    "# Imports\n",
    "import pandas as pd\n",
    "import numpy as np\n",
    "import matplotlib.pyplot as plt\n",
    "%matplotlib inline\n",
    "import seaborn as sns\n",
    "from sklearn.model_selection import cross_val_score, learning_curve, validation_curve, ShuffleSplit, train_test_split\n",
    "from sklearn.ensemble import RandomForestClassifier\n",
    "from sklearn.metrics import confusion_matrix\n",
    "from IPython.display import display\n",
    "import sklearn.cross_validation as cv"
   ]
  },
  {
   "cell_type": "code",
   "execution_count": 2,
   "metadata": {
    "collapsed": true
   },
   "outputs": [],
   "source": [
    "X = pd.read_csv('~/projects/capstone/model_selection/pro3_Data.csv')\n",
    "y = pd.read_csv('~/projects/capstone/model_selection/pro3_y.csv', header= None)\n",
    "y = y[0]"
   ]
  },
  {
   "cell_type": "code",
   "execution_count": 3,
   "metadata": {
    "collapsed": true
   },
   "outputs": [],
   "source": [
    "import sklearn\n",
    "import sklearn.model_selection\n",
    "\n",
    "X_train, X_test, y_train, y_test= sklearn.model_selection.train_test_split(X, y)"
   ]
  },
  {
   "cell_type": "code",
   "execution_count": 5,
   "metadata": {
    "collapsed": true
   },
   "outputs": [],
   "source": [
    "\n",
    "from __future__ import print_function\n",
    "import sklearn.metrics\n",
    "import time\n",
    "\n",
    "def evaluate_model(clf):\n",
    "    \"\"\"Scores a model using log loss with the created train and test sets.\"\"\"\n",
    "    start = time.time()\n",
    "    clf.fit(X_train, y_train)\n",
    "    train_loss = sklearn.metrics.log_loss(y_train, clf.predict_proba(X_train))\n",
    "    test_loss = sklearn.metrics.log_loss(y_test, clf.predict_proba(X_test))\n",
    "    print(\"Train score:\", train_loss)\n",
    "    print(\"Test score:\", test_loss)\n",
    "    print(\"Total time:\", time.time() - start)\n",
    "    print()\n",
    "    return test_loss"
   ]
  },
  {
   "cell_type": "code",
   "execution_count": 6,
   "metadata": {
    "collapsed": false
   },
   "outputs": [
    {
     "name": "stdout",
     "output_type": "stream",
     "text": [
      "Train score: 0.170064268555\n",
      "Test score: 0.179286140789\n",
      "Total time: 6.08049798012\n",
      "\n"
     ]
    },
    {
     "data": {
      "text/plain": [
       "0.17928614078929417"
      ]
     },
     "execution_count": 6,
     "metadata": {},
     "output_type": "execute_result"
    }
   ],
   "source": [
    "# grading boosting model \n",
    "from sklearn.ensemble import GradientBoostingClassifier\n",
    "\n",
    "gbt = GradientBoostingClassifier()\n",
    "evaluate_model(gbt)"
   ]
  },
  {
   "cell_type": "code",
   "execution_count": 12,
   "metadata": {
    "collapsed": false
   },
   "outputs": [
    {
     "data": {
      "text/plain": [
       "100"
      ]
     },
     "execution_count": 12,
     "metadata": {},
     "output_type": "execute_result"
    }
   ],
   "source": [
    "gbt.n_estimators"
   ]
  },
  {
   "cell_type": "code",
   "execution_count": 16,
   "metadata": {
    "collapsed": true
   },
   "outputs": [],
   "source": [
    "\n",
    "def plot_gbt_learning(gbt):\n",
    "    test_score = np.empty(len(gbt.estimators_))\n",
    "    train_score = np.empty(len(gbt.estimators_))\n",
    "    for i, pred in enumerate(gbt.staged_predict_proba(X_test)):\n",
    "        test_score[i] = sklearn.metrics.log_loss(y_test, pred)\n",
    "    for i, pred in enumerate(gbt.staged_predict_proba(X_train)):\n",
    "        train_score[i] = sklearn.metrics.log_loss(y_train, pred)\n",
    "    plt.figure(figsize=(8,6))\n",
    "    plt.plot(np.arange(gbt.n_estimators) + 1, test_score, label='Test') \n",
    "    plt.plot(np.arange(gbt.n_estimators) + 1, train_score, label='Train')"
   ]
  },
  {
   "cell_type": "code",
   "execution_count": 17,
   "metadata": {
    "collapsed": false
   },
   "outputs": [],
   "source": [
    "plot_gbt_learning(gbt)"
   ]
  },
  {
   "cell_type": "code",
   "execution_count": null,
   "metadata": {
    "collapsed": true
   },
   "outputs": [],
   "source": []
  },
  {
   "cell_type": "code",
   "execution_count": null,
   "metadata": {
    "collapsed": true
   },
   "outputs": [],
   "source": []
  },
  {
   "cell_type": "code",
   "execution_count": null,
   "metadata": {
    "collapsed": true
   },
   "outputs": [],
   "source": []
  },
  {
   "cell_type": "code",
   "execution_count": null,
   "metadata": {
    "collapsed": true
   },
   "outputs": [],
   "source": []
  },
  {
   "cell_type": "code",
   "execution_count": null,
   "metadata": {
    "collapsed": true
   },
   "outputs": [],
   "source": []
  },
  {
   "cell_type": "code",
   "execution_count": null,
   "metadata": {
    "collapsed": true
   },
   "outputs": [],
   "source": []
  },
  {
   "cell_type": "code",
   "execution_count": null,
   "metadata": {
    "collapsed": true
   },
   "outputs": [],
   "source": []
  },
  {
   "cell_type": "code",
   "execution_count": null,
   "metadata": {
    "collapsed": true
   },
   "outputs": [],
   "source": []
  },
  {
   "cell_type": "code",
   "execution_count": null,
   "metadata": {
    "collapsed": true
   },
   "outputs": [],
   "source": []
  },
  {
   "cell_type": "code",
   "execution_count": null,
   "metadata": {
    "collapsed": true
   },
   "outputs": [],
   "source": []
  }
 ],
 "metadata": {
  "kernelspec": {
   "display_name": "Python 2",
   "language": "python",
   "name": "python2"
  },
  "language_info": {
   "codemirror_mode": {
    "name": "ipython",
    "version": 2
   },
   "file_extension": ".py",
   "mimetype": "text/x-python",
   "name": "python",
   "nbconvert_exporter": "python",
   "pygments_lexer": "ipython2",
   "version": "2.7.13"
  }
 },
 "nbformat": 4,
 "nbformat_minor": 2
}
